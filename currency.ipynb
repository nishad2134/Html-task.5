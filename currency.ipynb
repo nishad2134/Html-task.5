{
 "cells": [
  {
   "cell_type": "code",
   "execution_count": 1,
   "metadata": {},
   "outputs": [],
   "source": [
    "import requests\n"
   ]
  },
  {
   "cell_type": "code",
   "execution_count": 2,
   "metadata": {},
   "outputs": [],
   "source": [
    "def query(main_currency , currency):\n",
    "    url = 'https://api.coinbase.com/v2/exchange-rates'\n",
    "    q_param = {\n",
    "        'currency' : f'{main_currency}'\n",
    "    }\n",
    "    c = requests.get(url=url , params=q_param)\n",
    "    cc = c.json()\n",
    "    data_cc = cc['data']['rates']\n",
    "    if currency in data_cc:\n",
    "        out= float(data_cc[currency])\n",
    "        return out"
   ]
  },
  {
   "cell_type": "code",
   "execution_count": 3,
   "metadata": {},
   "outputs": [],
   "source": [
    "a = query('INR' , 'USD')\n",
    "b = query('USD' , 'INR' )"
   ]
  },
  {
   "cell_type": "code",
   "execution_count": 4,
   "metadata": {},
   "outputs": [],
   "source": [
    "stockData = [\n",
    "                {\n",
    "                 'price': 1964.50,\n",
    "                'stockName': 'infy',\n",
    "                 'currency': 'INR',\n",
    "                 'USD Exchange_rates' : a * 1964.50\n",
    "                 },\n",
    "                  {\n",
    "                'stockName': 'TCS',\n",
    "                 'price': 4521.05,\n",
    "                 'currency': 'INR',\n",
    "                 'USD Exchange_rates' : a * 4521.05\n",
    "                 },\n",
    "                  {\n",
    "                'stockName': 'Google',\n",
    "                 'price': 163.38,\n",
    "                 'currency': 'USD',\n",
    "                  'INR Exchange_rates' : b * 163.38\n",
    "                 },\n",
    "                 {\n",
    "                'stockName': 'Amazon',\n",
    "                 'price': 178.50,\n",
    "                 'currency': 'USD',\n",
    "                 'INR Exchange_rates' : b * 178.50\n",
    "                 }\n",
    "            ]"
   ]
  },
  {
   "cell_type": "code",
   "execution_count": 5,
   "metadata": {},
   "outputs": [
    {
     "name": "stdout",
     "output_type": "stream",
     "text": [
      "[{'price': 1964.5, 'stockName': 'infy', 'currency': 'INR', 'USD Exchange_rates': 23.39269751786982}, {'stockName': 'TCS', 'price': 4521.05, 'currency': 'INR', 'USD Exchange_rates': 53.83535510978129}, {'stockName': 'Google', 'price': 163.38, 'currency': 'USD', 'INR Exchange_rates': 13720.52153262}, {'stockName': 'Amazon', 'price': 178.5, 'currency': 'USD', 'INR Exchange_rates': 14990.287021499998}]\n"
     ]
    }
   ],
   "source": [
    "print(stockData)"
   ]
  }
 ],
 "metadata": {
  "kernelspec": {
   "display_name": "base",
   "language": "python",
   "name": "python3"
  },
  "language_info": {
   "codemirror_mode": {
    "name": "ipython",
    "version": 3
   },
   "file_extension": ".py",
   "mimetype": "text/x-python",
   "name": "python",
   "nbconvert_exporter": "python",
   "pygments_lexer": "ipython3",
   "version": "3.12.4"
  }
 },
 "nbformat": 4,
 "nbformat_minor": 2
}
